{
 "cells": [
  {
   "cell_type": "code",
   "execution_count": 1,
   "metadata": {},
   "outputs": [],
   "source": [
    "# NOTES\n",
    "# TODO: Setup environment variables in anaconda or use Python without anaconda to access exported evnironment vars "
   ]
  },
  {
   "cell_type": "markdown",
   "metadata": {},
   "source": [
    "# Setup"
   ]
  },
  {
   "cell_type": "markdown",
   "metadata": {},
   "source": [
    "## Import Packages"
   ]
  },
  {
   "cell_type": "code",
   "execution_count": 48,
   "metadata": {},
   "outputs": [],
   "source": [
    "# import packages\n",
    "import os\n",
    "import dotenv\n",
    "from collections import Counter\n",
    "import pandas as pd\n",
    "import numpy as np\n",
    "import geopandas as gpd\n",
    "import plotly\n",
    "from pyspark import SparkContext, SparkConf\n",
    "from pyspark.sql import SparkSession\n",
    "from pyspark.sql.types import StructType, StructField, StringType, LongType, DoubleType, TimestampType\n",
    "from pyspark.sql.functions import col, year, month, weekofyear, unix_timestamp, udf, isnan, when, count\n",
    "from hdfs import InsecureClient"
   ]
  },
  {
   "cell_type": "markdown",
   "metadata": {},
   "source": [
    "## Load Environemnt Variables"
   ]
  },
  {
   "cell_type": "code",
   "execution_count": 2,
   "metadata": {},
   "outputs": [],
   "source": [
    "# load environment variables\n",
    "dotenv.load_dotenv()\n",
    "\n",
    "SPARK_CUDF_JAR = os.getenv('SPARK_CUDF_JAR')\n",
    "SPARK_RAPIDS_PLUGIN_JAR = os.getenv('SPARK_RAPIDS_PLUGIN_JAR')\n",
    "namenode_URI = os.getenv('namenode_URI')\n",
    "hadoop_user = os.getenv('hadoop_user')\n",
    "hdfs_path = os.getenv('hdfs_path')"
   ]
  },
  {
   "cell_type": "markdown",
   "metadata": {},
   "source": [
    "## Configure Spark, Connection to HDFS"
   ]
  },
  {
   "cell_type": "code",
   "execution_count": 21,
   "metadata": {},
   "outputs": [],
   "source": [
    "# configure environment & instantiate spark\n",
    "# one cpu available, total 8 cores, 2 cores per executor\n",
    "# one gpu available, 4 concurent tasks for gpu (1/4), 90% of gpu memory allowed for pooling by RAPIDS\n",
    "# possibly implement SparkConf.set method to set config('spark.executor.resource.gpu.amount', '0.25')\n",
    "spark = SparkSession.builder \\\n",
    "    .master('local') \\\n",
    "    .appName('nyc_taxi') \\\n",
    "    .config('spark.jars', f'{SPARK_CUDF_JAR},{SPARK_RAPIDS_PLUGIN_JAR}') \\\n",
    "    .config('spark.plugins', 'com.nvidia.spark.SQLPlugin') \\\n",
    "    .config('spark.rapids.sql.enabled', 'true') \\\n",
    "    .config('spark.rapids.sql.incompatibleOps.enabled', 'true') \\\n",
    "    .config('spark.executor.cores', '2') \\\n",
    "    .config('spark.task.cpus', '1') \\\n",
    "    .config('spark.rapids.memory.gpu.pooling.enabled', 'true') \\\n",
    "    .config('spark.rapids.memory.gpu.allocFraction', '0.9') \\\n",
    "    .getOrCreate()\n"
   ]
  },
  {
   "cell_type": "code",
   "execution_count": 22,
   "metadata": {},
   "outputs": [
    {
     "name": "stdout",
     "output_type": "stream",
     "text": [
      "['yellow_taxi_2017-01.parquet', 'yellow_taxi_2017-02.parquet', 'yellow_taxi_2017-03.parquet', 'yellow_taxi_2017-04.parquet', 'yellow_taxi_2017-05.parquet', 'yellow_taxi_2017-06.parquet', 'yellow_taxi_2017-07.parquet', 'yellow_taxi_2017-08.parquet', 'yellow_taxi_2017-09.parquet', 'yellow_taxi_2017-10.parquet', 'yellow_taxi_2017-11.parquet', 'yellow_taxi_2017-12.parquet', 'yellow_taxi_2018-01.parquet', 'yellow_taxi_2018-02.parquet', 'yellow_taxi_2018-03.parquet', 'yellow_taxi_2018-04.parquet', 'yellow_taxi_2018-05.parquet', 'yellow_taxi_2018-06.parquet', 'yellow_taxi_2018-07.parquet', 'yellow_taxi_2018-08.parquet', 'yellow_taxi_2018-09.parquet', 'yellow_taxi_2018-10.parquet', 'yellow_taxi_2018-11.parquet', 'yellow_taxi_2018-12.parquet', 'yellow_taxi_2019-01.parquet', 'yellow_taxi_2019-02.parquet', 'yellow_taxi_2019-03.parquet', 'yellow_taxi_2019-04.parquet', 'yellow_taxi_2019-05.parquet', 'yellow_taxi_2019-06.parquet', 'yellow_taxi_2019-07.parquet', 'yellow_taxi_2019-08.parquet', 'yellow_taxi_2019-09.parquet', 'yellow_taxi_2019-10.parquet', 'yellow_taxi_2019-11.parquet', 'yellow_taxi_2019-12.parquet', 'yellow_taxi_2020-01.parquet', 'yellow_taxi_2020-02.parquet', 'yellow_taxi_2020-03.parquet', 'yellow_taxi_2020-04.parquet', 'yellow_taxi_2020-05.parquet', 'yellow_taxi_2020-06.parquet', 'yellow_taxi_2020-07.parquet', 'yellow_taxi_2020-08.parquet', 'yellow_taxi_2020-09.parquet', 'yellow_taxi_2020-10.parquet', 'yellow_taxi_2020-11.parquet', 'yellow_taxi_2020-12.parquet']\n",
      "number of files in dfs directory: 48\n"
     ]
    }
   ],
   "source": [
    "# list files in hdfs directory, count files in directory\n",
    "hdfs = InsecureClient(namenode_URI, user=hadoop_user)\n",
    "fs = hdfs.list(hdfs_path)\n",
    "print(fs)\n",
    "print('number of files in dfs directory:', len(fs))"
   ]
  },
  {
   "cell_type": "markdown",
   "metadata": {},
   "source": [
    "# Data Ingestion"
   ]
  },
  {
   "cell_type": "code",
   "execution_count": 23,
   "metadata": {},
   "outputs": [
    {
     "name": "stdout",
     "output_type": "stream",
     "text": [
      "Counter({'VendorID': 48, 'tpep_pickup_datetime': 48, 'tpep_dropoff_datetime': 48, 'passenger_count': 48, 'trip_distance': 48, 'RatecodeID': 48, 'store_and_fwd_flag': 48, 'PULocationID': 48, 'DOLocationID': 48, 'payment_type': 48, 'fare_amount': 48, 'extra': 48, 'mta_tax': 48, 'tip_amount': 48, 'tolls_amount': 48, 'improvement_surcharge': 48, 'total_amount': 48, 'congestion_surcharge': 24})\n"
     ]
    }
   ],
   "source": [
    "# Get all column names in data\n",
    "columns = []\n",
    "for prqt in hdfs.list(hdfs_path):\n",
    "    cols = spark.read \\\n",
    "        .options(header='true', inferschema='true') \\\n",
    "        .parquet(f'hdfs://localhost:9000/user/hadoop/input/{prqt}') \\\n",
    "        .columns\n",
    "    columns.extend(cols)\n",
    "\n",
    "# see what columns are similar between\n",
    "counter = Counter(columns)\n",
    "print(counter)\n",
    "\n",
    "# lets take all columns that are present within all datasets (48 maximum columns count)\n",
    "columns = [i[0] for i in counter.items() if i[1] == max([i[1]for i in counter.items()])]\n"
   ]
  },
  {
   "cell_type": "code",
   "execution_count": 24,
   "metadata": {},
   "outputs": [],
   "source": [
    "# set the schema for data\n",
    "customSchema = StructType([\n",
    "    StructField('VendorID', LongType(), True),\n",
    "    StructField('tpep_pickup_datetime', TimestampType(), True),\n",
    "    StructField('tpep_dropoff_datetime', TimestampType(), True),\n",
    "    StructField('passenger_count', LongType(), True),\n",
    "    StructField('trip_distance', DoubleType(), True),\n",
    "    StructField('RatecodeID', LongType(), True),\n",
    "    StructField('store_and_fwd_flag', StringType(), True),\n",
    "    StructField('PULocationID', LongType(), True),\n",
    "    StructField('DOLocationID', LongType(), True),\n",
    "    StructField('payment_type', LongType(), True),\n",
    "    StructField('fare_amount', DoubleType(), True),\n",
    "    StructField('extra', DoubleType(), True),\n",
    "    StructField('mta_tax', DoubleType(), True),\n",
    "    StructField('tip_amount', DoubleType(), True),\n",
    "    StructField('tolls_amount', DoubleType(), True),\n",
    "    StructField('improvement_surcharge', DoubleType(), True),\n",
    "    StructField('total_amount', DoubleType(), True)\n",
    "])\n"
   ]
  },
  {
   "cell_type": "code",
   "execution_count": 25,
   "metadata": {},
   "outputs": [],
   "source": [
    "# read in data\n",
    "df = spark.read \\\n",
    "    .format('parquet') \\\n",
    "    .schema(customSchema) \\\n",
    "    .load('hdfs://localhost:9000/user/hadoop/input/*')\n"
   ]
  },
  {
   "cell_type": "code",
   "execution_count": 26,
   "metadata": {},
   "outputs": [
    {
     "name": "stdout",
     "output_type": "stream",
     "text": [
      "root\n",
      " |-- VendorID: long (nullable = true)\n",
      " |-- tpep_pickup_datetime: timestamp (nullable = true)\n",
      " |-- tpep_dropoff_datetime: timestamp (nullable = true)\n",
      " |-- passenger_count: long (nullable = true)\n",
      " |-- trip_distance: double (nullable = true)\n",
      " |-- RatecodeID: long (nullable = true)\n",
      " |-- store_and_fwd_flag: string (nullable = true)\n",
      " |-- PULocationID: long (nullable = true)\n",
      " |-- DOLocationID: long (nullable = true)\n",
      " |-- payment_type: long (nullable = true)\n",
      " |-- fare_amount: double (nullable = true)\n",
      " |-- extra: double (nullable = true)\n",
      " |-- mta_tax: double (nullable = true)\n",
      " |-- tip_amount: double (nullable = true)\n",
      " |-- tolls_amount: double (nullable = true)\n",
      " |-- improvement_surcharge: double (nullable = true)\n",
      " |-- total_amount: double (nullable = true)\n",
      "\n"
     ]
    }
   ],
   "source": [
    "# check final schema\n",
    "df.printSchema()\n"
   ]
  },
  {
   "cell_type": "code",
   "execution_count": 27,
   "metadata": {},
   "outputs": [
    {
     "name": "stdout",
     "output_type": "stream",
     "text": [
      "number of rows:  325.35 Million \n",
      "number of columns:  17 \n",
      "total count of data:  5.53 Billion\n"
     ]
    }
   ],
   "source": [
    "# preview of concatenated dataframe size\n",
    "print('number of rows: ', round(df.count() / 1e6, 2), 'Million',\n",
    "      '\\nnumber of columns: ', len(df.columns),\n",
    "      '\\ntotal count of data: ', round(df.count() * len(df.columns) / 1e9, 2), 'Billion')\n"
   ]
  },
  {
   "cell_type": "markdown",
   "metadata": {},
   "source": [
    "# Data Preparation"
   ]
  },
  {
   "cell_type": "code",
   "execution_count": 46,
   "metadata": {},
   "outputs": [
    {
     "name": "stderr",
     "output_type": "stream",
     "text": []
    },
    {
     "data": {
      "text/plain": [
       "[Row(year(tpep_pickup_datetime)=2018),\n",
       " Row(year(tpep_pickup_datetime)=2019),\n",
       " Row(year(tpep_pickup_datetime)=2020),\n",
       " Row(year(tpep_pickup_datetime)=2017)]"
      ]
     },
     "execution_count": 46,
     "metadata": {},
     "output_type": "execute_result"
    }
   ],
   "source": [
    "# we should only have data on years 2017 - 2020\n",
    "# df.select(year(df.tpep_pickup_datetime)).distinct().collect()\n",
    "\n",
    "# check how many rows of data are not within 2017-2020\n",
    "years = ['2017', '2018', '2019', '2020']\n",
    "# df.filter(~year(df.tpep_pickup_datetime).isin(years)).count()\n",
    "\n",
    "# 113.5k relatively small amount of taxi rides compared to 325.3m, we can drop these rows\n",
    "df = df.filter(year(df.tpep_pickup_datetime).isin(years))"
   ]
  },
  {
   "cell_type": "code",
   "execution_count": 28,
   "metadata": {},
   "outputs": [
    {
     "name": "stderr",
     "output_type": "stream",
     "text": []
    },
    {
     "data": {
      "text/plain": [
       "12"
      ]
     },
     "execution_count": 28,
     "metadata": {},
     "output_type": "execute_result"
    }
   ],
   "source": [
    "# check the months within the data\n",
    "df.select(month(df.tpep_pickup_datetime)).distinct().collect()\n",
    "# time 1m 30.6s"
   ]
  },
  {
   "cell_type": "code",
   "execution_count": 15,
   "metadata": {},
   "outputs": [],
   "source": [
    "# check if the years are correct like the pickup datetime\n",
    "df.select(year(df.tpep_dropoff_datetime)).distinct().collect()\n",
    "\n",
    "# there are extra rows with improper years, check the amount of bad data\n",
    "df.filter(~year(df.tpep_dropoff_datetime).isin(years)).count()\n",
    "\n",
    "# only 75 rows, we can drop them\n",
    "df = df.filter(year(df.tpep_dropoff_datetime).isin(years))"
   ]
  },
  {
   "cell_type": "code",
   "execution_count": null,
   "metadata": {},
   "outputs": [
    {
     "name": "stderr",
     "output_type": "stream",
     "text": []
    },
    {
     "data": {
      "text/plain": [
       "12"
      ]
     },
     "execution_count": 51,
     "metadata": {},
     "output_type": "execute_result"
    }
   ],
   "source": [
    "# check the months within the dates\n",
    "df.select(month(df.tpep_dropoff_datetime)).distinct().collect()\n",
    "# time 1n 32s"
   ]
  },
  {
   "cell_type": "code",
   "execution_count": 56,
   "metadata": {},
   "outputs": [
    {
     "name": "stderr",
     "output_type": "stream",
     "text": [
      "Exception in thread \"serve-DataFrame\" java.net.SocketTimeoutException: Accept timed out\n",
      "\tat java.base/java.net.PlainSocketImpl.socketAccept(Native Method)\n",
      "\tat java.base/java.net.AbstractPlainSocketImpl.accept(AbstractPlainSocketImpl.java:458)\n",
      "\tat java.base/java.net.ServerSocket.implAccept(ServerSocket.java:551)\n",
      "\tat java.base/java.net.ServerSocket.accept(ServerSocket.java:519)\n",
      "\tat org.apache.spark.security.SocketAuthServer$$anon$1.run(SocketAuthServer.scala:64)\n"
     ]
    },
    {
     "data": {
      "text/html": [
       "<div>\n",
       "<style scoped>\n",
       "    .dataframe tbody tr th:only-of-type {\n",
       "        vertical-align: middle;\n",
       "    }\n",
       "\n",
       "    .dataframe tbody tr th {\n",
       "        vertical-align: top;\n",
       "    }\n",
       "\n",
       "    .dataframe thead th {\n",
       "        text-align: right;\n",
       "    }\n",
       "</style>\n",
       "<table border=\"1\" class=\"dataframe\">\n",
       "  <thead>\n",
       "    <tr style=\"text-align: right;\">\n",
       "      <th></th>\n",
       "      <th>VendorID</th>\n",
       "      <th>tpep_pickup_datetime</th>\n",
       "      <th>tpep_dropoff_datetime</th>\n",
       "      <th>passenger_count</th>\n",
       "      <th>trip_distance</th>\n",
       "      <th>RatecodeID</th>\n",
       "      <th>store_and_fwd_flag</th>\n",
       "      <th>PULocationID</th>\n",
       "      <th>DOLocationID</th>\n",
       "      <th>payment_type</th>\n",
       "      <th>...</th>\n",
       "      <th>extra</th>\n",
       "      <th>mta_tax</th>\n",
       "      <th>tip_amount</th>\n",
       "      <th>tolls_amount</th>\n",
       "      <th>improvement_surcharge</th>\n",
       "      <th>total_amount</th>\n",
       "      <th>pickup_year</th>\n",
       "      <th>pickup_month</th>\n",
       "      <th>pickup_week</th>\n",
       "      <th>ride_duration</th>\n",
       "    </tr>\n",
       "  </thead>\n",
       "  <tbody>\n",
       "    <tr>\n",
       "      <th>0</th>\n",
       "      <td>1056169</td>\n",
       "      <td>0</td>\n",
       "      <td>0</td>\n",
       "      <td>1056169</td>\n",
       "      <td>0</td>\n",
       "      <td>1056169</td>\n",
       "      <td>0</td>\n",
       "      <td>0</td>\n",
       "      <td>0</td>\n",
       "      <td>1056169</td>\n",
       "      <td>...</td>\n",
       "      <td>0</td>\n",
       "      <td>0</td>\n",
       "      <td>0</td>\n",
       "      <td>0</td>\n",
       "      <td>0</td>\n",
       "      <td>0</td>\n",
       "      <td>0</td>\n",
       "      <td>0</td>\n",
       "      <td>0</td>\n",
       "      <td>0</td>\n",
       "    </tr>\n",
       "  </tbody>\n",
       "</table>\n",
       "<p>1 rows × 21 columns</p>\n",
       "</div>"
      ],
      "text/plain": [
       "   VendorID  tpep_pickup_datetime  tpep_dropoff_datetime  passenger_count  \\\n",
       "0   1056169                     0                      0          1056169   \n",
       "\n",
       "   trip_distance  RatecodeID  store_and_fwd_flag  PULocationID  DOLocationID  \\\n",
       "0              0     1056169                   0             0             0   \n",
       "\n",
       "   payment_type  ...  extra  mta_tax  tip_amount  tolls_amount  \\\n",
       "0       1056169  ...      0        0           0             0   \n",
       "\n",
       "   improvement_surcharge  total_amount  pickup_year  pickup_month  \\\n",
       "0                      0             0            0             0   \n",
       "\n",
       "   pickup_week  ride_duration  \n",
       "0            0              0  \n",
       "\n",
       "[1 rows x 21 columns]"
      ]
     },
     "execution_count": 56,
     "metadata": {},
     "output_type": "execute_result"
    }
   ],
   "source": [
    "# check for null values in dataframe\n",
    "df.select([count(when(col(c).isNull(), c)).alias(c) for c in df.columns]).toPandas()\n",
    "\n",
    "# seems like there are issues with about 1M rows of the data missing VendorID, passenger_count, RatecodeID, payment_type\n",
    "# remaining columns have no null values"
   ]
  },
  {
   "cell_type": "code",
   "execution_count": 16,
   "metadata": {},
   "outputs": [],
   "source": [
    "# user defined function for finding difference between two timestamps in minutes\"\n",
    "time_difference_udf = udf(lambda pickup, dropoff: (unix_timestamp(dropoff) - unix_timestamp(pickup)) / 60)"
   ]
  },
  {
   "cell_type": "code",
   "execution_count": 40,
   "metadata": {},
   "outputs": [],
   "source": [
    "# get attributes of dates\n",
    "df = df.withColumn('pickup_year', year('tpep_pickup_datetime')) \\\n",
    "       .withColumn('pickup_month', month('tpep_pickup_datetime')) \\\n",
    "       .withColumn('pickup_week', weekofyear('tpep_pickup_datetime')) \\\n",
    "       .withColumn('ride_duration', ((unix_timestamp('tpep_dropoff_datetime') - unix_timestamp('tpep_pickup_datetime')) / 60))"
   ]
  },
  {
   "cell_type": "code",
   "execution_count": 42,
   "metadata": {},
   "outputs": [
    {
     "name": "stderr",
     "output_type": "stream",
     "text": []
    },
    {
     "data": {
      "text/html": [
       "<div>\n",
       "<style scoped>\n",
       "    .dataframe tbody tr th:only-of-type {\n",
       "        vertical-align: middle;\n",
       "    }\n",
       "\n",
       "    .dataframe tbody tr th {\n",
       "        vertical-align: top;\n",
       "    }\n",
       "\n",
       "    .dataframe thead th {\n",
       "        text-align: right;\n",
       "    }\n",
       "</style>\n",
       "<table border=\"1\" class=\"dataframe\">\n",
       "  <thead>\n",
       "    <tr style=\"text-align: right;\">\n",
       "      <th></th>\n",
       "      <th>year</th>\n",
       "      <th>month</th>\n",
       "      <th>count</th>\n",
       "    </tr>\n",
       "  </thead>\n",
       "  <tbody>\n",
       "    <tr>\n",
       "      <th>0</th>\n",
       "      <td>2031</td>\n",
       "      <td>2</td>\n",
       "      <td>2</td>\n",
       "    </tr>\n",
       "    <tr>\n",
       "      <th>1</th>\n",
       "      <td>2019</td>\n",
       "      <td>10</td>\n",
       "      <td>7242123</td>\n",
       "    </tr>\n",
       "    <tr>\n",
       "      <th>2</th>\n",
       "      <td>2001</td>\n",
       "      <td>1</td>\n",
       "      <td>5</td>\n",
       "    </tr>\n",
       "    <tr>\n",
       "      <th>3</th>\n",
       "      <td>2017</td>\n",
       "      <td>3</td>\n",
       "      <td>10309482</td>\n",
       "    </tr>\n",
       "    <tr>\n",
       "      <th>4</th>\n",
       "      <td>2038</td>\n",
       "      <td>2</td>\n",
       "      <td>4</td>\n",
       "    </tr>\n",
       "  </tbody>\n",
       "</table>\n",
       "</div>"
      ],
      "text/plain": [
       "   year  month     count\n",
       "0  2031      2         2\n",
       "1  2019     10   7242123\n",
       "2  2001      1         5\n",
       "3  2017      3  10309482\n",
       "4  2038      2         4"
      ]
     },
     "execution_count": 42,
     "metadata": {},
     "output_type": "execute_result"
    }
   ],
   "source": [
    "# number of rides per month\n",
    "rides_per_month = df.select(\n",
    "                        year(\"tpep_pickup_datetime\").alias('year'),\n",
    "                        month(\"tpep_pickup_datetime\").alias('month'),\n",
    "                        'fare_amount') \\\n",
    "                    .groupBy('year', 'month') \\\n",
    "                    .count() \\\n",
    "                    .toPandas()\n",
    "# time: 33.5s\n",
    "rides_per_month.head()"
   ]
  },
  {
   "cell_type": "code",
   "execution_count": 43,
   "metadata": {},
   "outputs": [
    {
     "name": "stderr",
     "output_type": "stream",
     "text": []
    },
    {
     "data": {
      "text/html": [
       "<div>\n",
       "<style scoped>\n",
       "    .dataframe tbody tr th:only-of-type {\n",
       "        vertical-align: middle;\n",
       "    }\n",
       "\n",
       "    .dataframe tbody tr th {\n",
       "        vertical-align: top;\n",
       "    }\n",
       "\n",
       "    .dataframe thead th {\n",
       "        text-align: right;\n",
       "    }\n",
       "</style>\n",
       "<table border=\"1\" class=\"dataframe\">\n",
       "  <thead>\n",
       "    <tr style=\"text-align: right;\">\n",
       "      <th></th>\n",
       "      <th>year</th>\n",
       "      <th>month</th>\n",
       "      <th>sum(fare_amount)</th>\n",
       "    </tr>\n",
       "  </thead>\n",
       "  <tbody>\n",
       "    <tr>\n",
       "      <th>0</th>\n",
       "      <td>2031</td>\n",
       "      <td>2</td>\n",
       "      <td>1.600000e+01</td>\n",
       "    </tr>\n",
       "    <tr>\n",
       "      <th>1</th>\n",
       "      <td>2019</td>\n",
       "      <td>10</td>\n",
       "      <td>9.870654e+07</td>\n",
       "    </tr>\n",
       "    <tr>\n",
       "      <th>2</th>\n",
       "      <td>2001</td>\n",
       "      <td>1</td>\n",
       "      <td>5.500000e+01</td>\n",
       "    </tr>\n",
       "    <tr>\n",
       "      <th>3</th>\n",
       "      <td>2017</td>\n",
       "      <td>3</td>\n",
       "      <td>1.331977e+08</td>\n",
       "    </tr>\n",
       "    <tr>\n",
       "      <th>4</th>\n",
       "      <td>2041</td>\n",
       "      <td>6</td>\n",
       "      <td>7.000000e+00</td>\n",
       "    </tr>\n",
       "  </tbody>\n",
       "</table>\n",
       "</div>"
      ],
      "text/plain": [
       "   year  month  sum(fare_amount)\n",
       "0  2031      2      1.600000e+01\n",
       "1  2019     10      9.870654e+07\n",
       "2  2001      1      5.500000e+01\n",
       "3  2017      3      1.331977e+08\n",
       "4  2041      6      7.000000e+00"
      ]
     },
     "execution_count": 43,
     "metadata": {},
     "output_type": "execute_result"
    }
   ],
   "source": [
    "# sum of fares by month-year\n",
    "fare_by_year_month = df.select(\n",
    "                            year(\"tpep_pickup_datetime\").alias('year'),\n",
    "                            month(\"tpep_pickup_datetime\").alias('month'),\n",
    "                            'fare_amount') \\\n",
    "                        .groupBy('year', 'month') \\\n",
    "                        .sum('fare_amount') \\\n",
    "                        .toPandas()\n",
    "# time: 29.8s\n",
    "fare_by_year_month.head()"
   ]
  },
  {
   "cell_type": "code",
   "execution_count": 44,
   "metadata": {},
   "outputs": [
    {
     "name": "stderr",
     "output_type": "stream",
     "text": []
    },
    {
     "data": {
      "text/html": [
       "<div>\n",
       "<style scoped>\n",
       "    .dataframe tbody tr th:only-of-type {\n",
       "        vertical-align: middle;\n",
       "    }\n",
       "\n",
       "    .dataframe tbody tr th {\n",
       "        vertical-align: top;\n",
       "    }\n",
       "\n",
       "    .dataframe thead th {\n",
       "        text-align: right;\n",
       "    }\n",
       "</style>\n",
       "<table border=\"1\" class=\"dataframe\">\n",
       "  <thead>\n",
       "    <tr style=\"text-align: right;\">\n",
       "      <th></th>\n",
       "      <th>PULocationID</th>\n",
       "      <th>DOLocationID</th>\n",
       "      <th>sum(fare_amount)</th>\n",
       "    </tr>\n",
       "  </thead>\n",
       "  <tbody>\n",
       "    <tr>\n",
       "      <th>0</th>\n",
       "      <td>48</td>\n",
       "      <td>232</td>\n",
       "      <td>369106.77</td>\n",
       "    </tr>\n",
       "    <tr>\n",
       "      <th>1</th>\n",
       "      <td>170</td>\n",
       "      <td>179</td>\n",
       "      <td>203708.04</td>\n",
       "    </tr>\n",
       "    <tr>\n",
       "      <th>2</th>\n",
       "      <td>236</td>\n",
       "      <td>1</td>\n",
       "      <td>477072.90</td>\n",
       "    </tr>\n",
       "    <tr>\n",
       "      <th>3</th>\n",
       "      <td>28</td>\n",
       "      <td>130</td>\n",
       "      <td>10209.07</td>\n",
       "    </tr>\n",
       "    <tr>\n",
       "      <th>4</th>\n",
       "      <td>179</td>\n",
       "      <td>260</td>\n",
       "      <td>34003.20</td>\n",
       "    </tr>\n",
       "  </tbody>\n",
       "</table>\n",
       "</div>"
      ],
      "text/plain": [
       "   PULocationID  DOLocationID  sum(fare_amount)\n",
       "0            48           232         369106.77\n",
       "1           170           179         203708.04\n",
       "2           236             1         477072.90\n",
       "3            28           130          10209.07\n",
       "4           179           260          34003.20"
      ]
     },
     "execution_count": 44,
     "metadata": {},
     "output_type": "execute_result"
    }
   ],
   "source": [
    "# get total fares by pick up and drop off location pairs\n",
    "fares_by_locations = df.groupBy('PULocationID', 'DOLocationID').sum('fare_amount').toPandas()\n",
    "# time: 20.4s\n",
    "fares_by_locations.head()"
   ]
  },
  {
   "cell_type": "markdown",
   "metadata": {},
   "source": [
    "# APPENDIX"
   ]
  },
  {
   "cell_type": "markdown",
   "metadata": {},
   "source": [
    "```python\n",
    "# RDD implementation of fares_by_locations (GPU not utilized)\n",
    "fares_by_locations = df.select(['PULocationID', 'DOLocationID', 'fare_amount']).rdd \\\n",
    "                         .map(lambda x: ((x[0], x[1]), x[2])) \\\n",
    "                         .reduceByKey(lambda x, y: x + y) \\\n",
    "                         .toDF().toPandas()\n",
    "time: 10m 53s\n",
    "```"
   ]
  }
 ],
 "metadata": {
  "interpreter": {
   "hash": "018058fd1a9831f8202021ce3d2ea0f1237b6cfb311c91aea6b7cd2f2c610067"
  },
  "kernelspec": {
   "display_name": "Python 3.8.11 64-bit ('Spark': conda)",
   "name": "python3"
  },
  "language_info": {
   "codemirror_mode": {
    "name": "ipython",
    "version": 3
   },
   "file_extension": ".py",
   "mimetype": "text/x-python",
   "name": "python",
   "nbconvert_exporter": "python",
   "pygments_lexer": "ipython3",
   "version": "3.8.11"
  },
  "orig_nbformat": 4
 },
 "nbformat": 4,
 "nbformat_minor": 2
}
